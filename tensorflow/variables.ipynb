{
 "cells": [
  {
   "cell_type": "code",
   "execution_count": 1,
   "metadata": {
    "colab": {},
    "colab_type": "code",
    "executionInfo": {
     "elapsed": 2714,
     "status": "ok",
     "timestamp": 1597411974975,
     "user": {
      "displayName": "Rajat Singhal",
      "photoUrl": "",
      "userId": "09575340703716566720"
     },
     "user_tz": -330
    },
    "id": "xoTE-ymxzFJk"
   },
   "outputs": [],
   "source": [
    "import tensorflow as tf\n",
    "import matplotlib.pyplot as plt\n",
    "import pandas as pd"
   ]
  },
  {
   "cell_type": "code",
   "execution_count": 2,
   "metadata": {
    "colab": {},
    "colab_type": "code",
    "executionInfo": {
     "elapsed": 1252,
     "status": "ok",
     "timestamp": 1597411978618,
     "user": {
      "displayName": "Rajat Singhal",
      "photoUrl": "",
      "userId": "09575340703716566720"
     },
     "user_tz": -330
    },
    "id": "i8ejq-cVzIp2"
   },
   "outputs": [],
   "source": [
    "def rand(shape):\n",
    "    return tf.random.normal(shape, dtype=tf.float64)\n",
    "\n",
    "def FC(x, w, b):\n",
    "    \"\"\"\n",
    "    Fully-connected layer\n",
    "    \"\"\"\n",
    "    N = x.shape[0]\n",
    "    D = w.shape[0]\n",
    "    x_reshaped = tf.reshape(x, [N,D])\n",
    "    # print(x_reshaped.shape, w.shape, tmp.shape, b.shape)\n",
    "    return tf.math.add(tf.matmul(x_reshaped, w), b)\n",
    "\n",
    "class Model(object):\n",
    "    def __init__(self, input_dim=1):\n",
    "        ####### NOTE ######\n",
    "        # If you add vars here, need to add them in `vars_list` in `train()` a few cells down\n",
    "        # Otherwise they won't be updated\n",
    "\n",
    "        # input_shape - NxD\n",
    "        h1 = 20\n",
    "        self.W1 = tf.Variable(rand([input_dim,h1])) # DxH => H=20\n",
    "        self.b1 = tf.Variable(rand([1,h1])) # 1xH1\n",
    "\n",
    "        h2 = 40\n",
    "        self.W2 = tf.Variable(rand([h1,h2])) # DxH => H=40\n",
    "        self.b2 = tf.Variable(rand([1,h2])) # 1xH2\n",
    "\n",
    "        self.W_last = tf.Variable(rand([h2,1])) # HxOut\n",
    "        self.b_last = tf.Variable(rand([1,1]))  # 1xOut\n",
    "\n",
    "    def __call__(self, x):\n",
    "        # x is of shape NxD\n",
    "        x = FC(x, self.W1, self.b1)             # [NxD]*[DxH1] + [1xH1] = [N*H1] => [Nx20] \n",
    "        x = tf.math.tanh(x)                     # [NxH1] => Nx20\n",
    "        x = FC(x, self.W2, self.b2)             # [NxH1]*[H1xH2] + [1xH2] = [NxH2] => [Nx40]\n",
    "        x = tf.math.tanh(x)                     # [NxH2] => Nx40\n",
    "        x = FC(x, self.W_last, self.b_last)     # [NxH]*[HxO] + [1xO] = [NxO] => [Nx1]\n",
    "        return x\n"
   ]
  },
  {
   "cell_type": "code",
   "execution_count": 3,
   "metadata": {
    "colab": {},
    "colab_type": "code",
    "executionInfo": {
     "elapsed": 1371,
     "status": "ok",
     "timestamp": 1597411982186,
     "user": {
      "displayName": "Rajat Singhal",
      "photoUrl": "",
      "userId": "09575340703716566720"
     },
     "user_tz": -330
    },
    "id": "ALaT5xXe1wQ4"
   },
   "outputs": [],
   "source": [
    "def loss(target_y, predicted_y):\n",
    "    return tf.math.reduce_mean(tf.math.square(target_y - predicted_y))"
   ]
  },
  {
   "cell_type": "code",
   "execution_count": 4,
   "metadata": {
    "colab": {},
    "colab_type": "code",
    "executionInfo": {
     "elapsed": 1229,
     "status": "ok",
     "timestamp": 1597411984252,
     "user": {
      "displayName": "Rajat Singhal",
      "photoUrl": "",
      "userId": "09575340703716566720"
     },
     "user_tz": -330
    },
    "id": "nyWGTBHU2NyL"
   },
   "outputs": [],
   "source": [
    "# Create data\n",
    "TRUE_W = 3.0\n",
    "TRUE_b = 2.0\n",
    "NUM_EXAMPLES = 1000\n",
    "\n",
    "dim=1\n",
    "inputs  = tf.random.normal(shape=[NUM_EXAMPLES,dim], dtype=tf.float64)\n",
    "noise   = tf.random.normal(shape=[NUM_EXAMPLES,1], dtype=tf.float64)\n",
    "outputs = inputs**2 + inputs * TRUE_W + TRUE_b + noise"
   ]
  },
  {
   "cell_type": "code",
   "execution_count": 5,
   "metadata": {
    "colab": {},
    "colab_type": "code",
    "executionInfo": {
     "elapsed": 1120,
     "status": "ok",
     "timestamp": 1597411992872,
     "user": {
      "displayName": "Rajat Singhal",
      "photoUrl": "",
      "userId": "09575340703716566720"
     },
     "user_tz": -330
    },
    "id": "AbE19ImwXzm7"
   },
   "outputs": [],
   "source": [
    "learning_rate=0.1\n",
    "opt = tf.keras.optimizers.Adam(learning_rate)\n",
    "\n",
    "def train(model_in, input, output):\n",
    "    # Compute the gradients for a list of variables.\n",
    "    with tf.GradientTape() as tape:\n",
    "        curr_loss = loss(output, model_in(input))\n",
    "\n",
    "    # print(f\"Curr_loss: {curr_loss}\")\n",
    "    vars_list = [model_in.W1, model_in.b1, \n",
    "                model_in.W2, model_in.b2, \n",
    "                model_in.W_last, model_in.b_last]\n",
    "    grads = tape.gradient(curr_loss, vars_list)\n",
    "\n",
    "    # Ask optimizer to apply the gradients.\n",
    "    opt.apply_gradients(zip(grads, vars_list))\n",
    "\n",
    "model = Model(input_dim=dim)"
   ]
  },
  {
   "cell_type": "code",
   "execution_count": 6,
   "metadata": {
    "colab": {
     "base_uri": "https://localhost:8080/",
     "height": 282
    },
    "colab_type": "code",
    "executionInfo": {
     "elapsed": 1212,
     "status": "ok",
     "timestamp": 1597411996383,
     "user": {
      "displayName": "Rajat Singhal",
      "photoUrl": "",
      "userId": "09575340703716566720"
     },
     "user_tz": -330
    },
    "id": "5VnQg4wzgm6f",
    "outputId": "5c8e4a55-7f6f-403d-d701-2475bc7dfedb"
   },
   "outputs": [
    {
     "data": {
      "image/png": "[encoded data removed]",
      "text/plain": [
       "<Figure size 432x288 with 1 Axes>"
      ]
     },
     "metadata": {
      "needs_background": "light",
      "tags": []
     },
     "output_type": "display_data"
    },
    {
     "name": "stdout",
     "output_type": "stream",
     "text": [
      "Current loss: 83.524012\n"
     ]
    }
   ],
   "source": [
    "plt.scatter(inputs, outputs, c='b')\n",
    "plt.scatter(inputs, model(inputs), c='r')\n",
    "plt.show()\n",
    "\n",
    "print('Current loss: %1.6f' % loss(model(inputs), outputs).numpy())"
   ]
  },
  {
   "cell_type": "code",
   "execution_count": 7,
   "metadata": {
    "colab": {
     "base_uri": "https://localhost:8080/",
     "height": 538
    },
    "colab_type": "code",
    "executionInfo": {
     "elapsed": 1448,
     "status": "ok",
     "timestamp": 1597412001404,
     "user": {
      "displayName": "Rajat Singhal",
      "photoUrl": "",
      "userId": "09575340703716566720"
     },
     "user_tz": -330
    },
    "id": "Nlw-YCTQgH--",
    "outputId": "9c9ae302-99f5-4694-f1da-d0cc69296796"
   },
   "outputs": [
    {
     "name": "stdout",
     "output_type": "stream",
     "text": [
      "Epoch 0: loss=83.52401150034135\n",
      "Epoch 1: loss=69.70602220631216\n",
      "Epoch 2: loss=25.962715876126037\n",
      "Epoch 3: loss=7.46100341080223\n",
      "Epoch 4: loss=7.489034142210961\n",
      "Epoch 5: loss=10.767747780608826\n",
      "Epoch 6: loss=11.993404472441604\n",
      "Epoch 7: loss=10.176532516996177\n",
      "Epoch 8: loss=7.06399972574256\n",
      "Epoch 9: loss=4.481128832623114\n",
      "Epoch 10: loss=3.471432730100098\n",
      "Epoch 11: loss=3.9585540701698507\n",
      "Epoch 12: loss=5.106751658479875\n",
      "Epoch 13: loss=5.835645405560281\n",
      "Epoch 14: loss=5.343743081501936\n",
      "Epoch 15: loss=3.861976666844188\n",
      "Epoch 16: loss=2.3552259485568774\n",
      "Epoch 17: loss=1.6596313691729752\n",
      "Epoch 18: loss=1.9546262819932736\n",
      "Epoch 19: loss=2.7474400061122295\n",
      "Epoch 20: loss=3.308173735010356\n",
      "Epoch 21: loss=3.223995252995188\n",
      "Epoch 22: loss=2.622311280694022\n",
      "Epoch 23: loss=1.9452563293231915\n",
      "Epoch 24: loss=1.5659981810926238\n",
      "Epoch 25: loss=1.5809296080131872\n",
      "Epoch 26: loss=1.8314554736230075\n",
      "Epoch 27: loss=2.0395828706793373\n",
      "Epoch 28: loss=2.008099859514454\n",
      "Epoch 29: loss=1.7735856354707242\n"
     ]
    }
   ],
   "source": [
    "epochs = 30\n",
    "\n",
    "for epoch in range(epochs):\n",
    "    current_loss = loss(outputs, model(inputs))\n",
    "\n",
    "    train(model, inputs, outputs)\n",
    "    print(f'Epoch {epoch}: loss={current_loss}')"
   ]
  },
  {
   "cell_type": "code",
   "execution_count": 8,
   "metadata": {
    "colab": {
     "base_uri": "https://localhost:8080/",
     "height": 282
    },
    "colab_type": "code",
    "executionInfo": {
     "elapsed": 1111,
     "status": "ok",
     "timestamp": 1597412006133,
     "user": {
      "displayName": "Rajat Singhal",
      "photoUrl": "",
      "userId": "09575340703716566720"
     },
     "user_tz": -330
    },
    "id": "pVTLuxqgf7CJ",
    "outputId": "1c804d70-3aef-4938-a456-b1dade0efe44"
   },
   "outputs": [
    {
     "data": {
      "image/png": "[encoded data removed]",
      "text/plain": [
       "<Figure size 432x288 with 1 Axes>"
      ]
     },
     "metadata": {
      "needs_background": "light",
      "tags": []
     },
     "output_type": "display_data"
    },
    {
     "name": "stdout",
     "output_type": "stream",
     "text": [
      "Current loss: 1.533348\n"
     ]
    }
   ],
   "source": [
    "plt.scatter(inputs, outputs, c='b')\n",
    "plt.scatter(inputs, model(inputs), c='r')\n",
    "plt.show()\n",
    "\n",
    "print('Current loss: %1.6f' % loss(model(inputs), outputs).numpy())"
   ]
  },
  {
   "cell_type": "code",
   "execution_count": null,
   "metadata": {
    "colab": {},
    "colab_type": "code",
    "id": "jrbBKPrqYwRj"
   },
   "outputs": [],
   "source": []
  },
  {
   "cell_type": "code",
   "execution_count": 49,
   "metadata": {
    "colab": {},
    "colab_type": "code",
    "executionInfo": {
     "elapsed": 1235,
     "status": "ok",
     "timestamp": 1597343431477,
     "user": {
      "displayName": "Rajat Singhal",
      "photoUrl": "",
      "userId": "09575340703716566720"
     },
     "user_tz": -330
    },
    "id": "sb-uJ4OAyntj"
   },
   "outputs": [],
   "source": [
    "# Let's try using Pandas now\n",
    "# This is a test file\n",
    "csv_file = tf.keras.utils.get_file('heart.csv', 'https://storage.googleapis.com/applied-dl/heart.csv')\n",
    "df = pd.read_csv(csv_file)"
   ]
  },
  {
   "cell_type": "code",
   "execution_count": 50,
   "metadata": {
    "colab": {
     "base_uri": "https://localhost:8080/",
     "height": 206
    },
    "colab_type": "code",
    "executionInfo": {
     "elapsed": 1370,
     "status": "ok",
     "timestamp": 1597343435881,
     "user": {
      "displayName": "Rajat Singhal",
      "photoUrl": "",
      "userId": "09575340703716566720"
     },
     "user_tz": -330
    },
    "id": "C22xjLzqy3Xc",
    "outputId": "0561a30a-ac0c-4986-cdd7-bbeebe9373c4"
   },
   "outputs": [
    {
     "data": {
      "text/html": [
       "<div>\n",
       "<style scoped>\n",
       "    .dataframe tbody tr th:only-of-type {\n",
       "        vertical-align: middle;\n",
       "    }\n",
       "\n",
       "    .dataframe tbody tr th {\n",
       "        vertical-align: top;\n",
       "    }\n",
       "\n",
       "    .dataframe thead th {\n",
       "        text-align: right;\n",
       "    }\n",
       "</style>\n",
       "<table border=\"1\" class=\"dataframe\">\n",
       "  <thead>\n",
       "    <tr style=\"text-align: right;\">\n",
       "      <th></th>\n",
       "      <th>age</th>\n",
       "      <th>sex</th>\n",
       "      <th>cp</th>\n",
       "      <th>trestbps</th>\n",
       "      <th>chol</th>\n",
       "      <th>fbs</th>\n",
       "      <th>restecg</th>\n",
       "      <th>thalach</th>\n",
       "      <th>exang</th>\n",
       "      <th>oldpeak</th>\n",
       "      <th>slope</th>\n",
       "      <th>ca</th>\n",
       "      <th>thal</th>\n",
       "      <th>target</th>\n",
       "    </tr>\n",
       "  </thead>\n",
       "  <tbody>\n",
       "    <tr>\n",
       "      <th>0</th>\n",
       "      <td>63</td>\n",
       "      <td>1</td>\n",
       "      <td>1</td>\n",
       "      <td>145</td>\n",
       "      <td>233</td>\n",
       "      <td>1</td>\n",
       "      <td>2</td>\n",
       "      <td>150</td>\n",
       "      <td>0</td>\n",
       "      <td>2.3</td>\n",
       "      <td>3</td>\n",
       "      <td>0</td>\n",
       "      <td>fixed</td>\n",
       "      <td>0</td>\n",
       "    </tr>\n",
       "    <tr>\n",
       "      <th>1</th>\n",
       "      <td>67</td>\n",
       "      <td>1</td>\n",
       "      <td>4</td>\n",
       "      <td>160</td>\n",
       "      <td>286</td>\n",
       "      <td>0</td>\n",
       "      <td>2</td>\n",
       "      <td>108</td>\n",
       "      <td>1</td>\n",
       "      <td>1.5</td>\n",
       "      <td>2</td>\n",
       "      <td>3</td>\n",
       "      <td>normal</td>\n",
       "      <td>1</td>\n",
       "    </tr>\n",
       "    <tr>\n",
       "      <th>2</th>\n",
       "      <td>67</td>\n",
       "      <td>1</td>\n",
       "      <td>4</td>\n",
       "      <td>120</td>\n",
       "      <td>229</td>\n",
       "      <td>0</td>\n",
       "      <td>2</td>\n",
       "      <td>129</td>\n",
       "      <td>1</td>\n",
       "      <td>2.6</td>\n",
       "      <td>2</td>\n",
       "      <td>2</td>\n",
       "      <td>reversible</td>\n",
       "      <td>0</td>\n",
       "    </tr>\n",
       "    <tr>\n",
       "      <th>3</th>\n",
       "      <td>37</td>\n",
       "      <td>1</td>\n",
       "      <td>3</td>\n",
       "      <td>130</td>\n",
       "      <td>250</td>\n",
       "      <td>0</td>\n",
       "      <td>0</td>\n",
       "      <td>187</td>\n",
       "      <td>0</td>\n",
       "      <td>3.5</td>\n",
       "      <td>3</td>\n",
       "      <td>0</td>\n",
       "      <td>normal</td>\n",
       "      <td>0</td>\n",
       "    </tr>\n",
       "    <tr>\n",
       "      <th>4</th>\n",
       "      <td>41</td>\n",
       "      <td>0</td>\n",
       "      <td>2</td>\n",
       "      <td>130</td>\n",
       "      <td>204</td>\n",
       "      <td>0</td>\n",
       "      <td>2</td>\n",
       "      <td>172</td>\n",
       "      <td>0</td>\n",
       "      <td>1.4</td>\n",
       "      <td>1</td>\n",
       "      <td>0</td>\n",
       "      <td>normal</td>\n",
       "      <td>0</td>\n",
       "    </tr>\n",
       "  </tbody>\n",
       "</table>\n",
       "</div>"
      ],
      "text/plain": [
       "   age  sex  cp  trestbps  chol  ...  oldpeak  slope  ca        thal  target\n",
       "0   63    1   1       145   233  ...      2.3      3   0       fixed       0\n",
       "1   67    1   4       160   286  ...      1.5      2   3      normal       1\n",
       "2   67    1   4       120   229  ...      2.6      2   2  reversible       0\n",
       "3   37    1   3       130   250  ...      3.5      3   0      normal       0\n",
       "4   41    0   2       130   204  ...      1.4      1   0      normal       0\n",
       "\n",
       "[5 rows x 14 columns]"
      ]
     },
     "execution_count": 50,
     "metadata": {
      "tags": []
     },
     "output_type": "execute_result"
    }
   ],
   "source": [
    "df.head()"
   ]
  },
  {
   "cell_type": "code",
   "execution_count": 51,
   "metadata": {
    "colab": {},
    "colab_type": "code",
    "executionInfo": {
     "elapsed": 1803,
     "status": "ok",
     "timestamp": 1597343439120,
     "user": {
      "displayName": "Rajat Singhal",
      "photoUrl": "",
      "userId": "09575340703716566720"
     },
     "user_tz": -330
    },
    "id": "hft_2nvGy5H1"
   },
   "outputs": [],
   "source": [
    "df['thal'] = pd.Categorical(df['thal'])\n",
    "df['thal'] = df.thal.cat.codes"
   ]
  },
  {
   "cell_type": "code",
   "execution_count": 52,
   "metadata": {
    "colab": {
     "base_uri": "https://localhost:8080/",
     "height": 206
    },
    "colab_type": "code",
    "executionInfo": {
     "elapsed": 1159,
     "status": "ok",
     "timestamp": 1597343439125,
     "user": {
      "displayName": "Rajat Singhal",
      "photoUrl": "",
      "userId": "09575340703716566720"
     },
     "user_tz": -330
    },
    "id": "Kn60YTzozFo1",
    "outputId": "321a6acf-b5ac-4752-baa3-46e91cae91c1"
   },
   "outputs": [
    {
     "data": {
      "text/html": [
       "<div>\n",
       "<style scoped>\n",
       "    .dataframe tbody tr th:only-of-type {\n",
       "        vertical-align: middle;\n",
       "    }\n",
       "\n",
       "    .dataframe tbody tr th {\n",
       "        vertical-align: top;\n",
       "    }\n",
       "\n",
       "    .dataframe thead th {\n",
       "        text-align: right;\n",
       "    }\n",
       "</style>\n",
       "<table border=\"1\" class=\"dataframe\">\n",
       "  <thead>\n",
       "    <tr style=\"text-align: right;\">\n",
       "      <th></th>\n",
       "      <th>age</th>\n",
       "      <th>sex</th>\n",
       "      <th>cp</th>\n",
       "      <th>trestbps</th>\n",
       "      <th>chol</th>\n",
       "      <th>fbs</th>\n",
       "      <th>restecg</th>\n",
       "      <th>thalach</th>\n",
       "      <th>exang</th>\n",
       "      <th>oldpeak</th>\n",
       "      <th>slope</th>\n",
       "      <th>ca</th>\n",
       "      <th>thal</th>\n",
       "      <th>target</th>\n",
       "    </tr>\n",
       "  </thead>\n",
       "  <tbody>\n",
       "    <tr>\n",
       "      <th>0</th>\n",
       "      <td>63</td>\n",
       "      <td>1</td>\n",
       "      <td>1</td>\n",
       "      <td>145</td>\n",
       "      <td>233</td>\n",
       "      <td>1</td>\n",
       "      <td>2</td>\n",
       "      <td>150</td>\n",
       "      <td>0</td>\n",
       "      <td>2.3</td>\n",
       "      <td>3</td>\n",
       "      <td>0</td>\n",
       "      <td>2</td>\n",
       "      <td>0</td>\n",
       "    </tr>\n",
       "    <tr>\n",
       "      <th>1</th>\n",
       "      <td>67</td>\n",
       "      <td>1</td>\n",
       "      <td>4</td>\n",
       "      <td>160</td>\n",
       "      <td>286</td>\n",
       "      <td>0</td>\n",
       "      <td>2</td>\n",
       "      <td>108</td>\n",
       "      <td>1</td>\n",
       "      <td>1.5</td>\n",
       "      <td>2</td>\n",
       "      <td>3</td>\n",
       "      <td>3</td>\n",
       "      <td>1</td>\n",
       "    </tr>\n",
       "    <tr>\n",
       "      <th>2</th>\n",
       "      <td>67</td>\n",
       "      <td>1</td>\n",
       "      <td>4</td>\n",
       "      <td>120</td>\n",
       "      <td>229</td>\n",
       "      <td>0</td>\n",
       "      <td>2</td>\n",
       "      <td>129</td>\n",
       "      <td>1</td>\n",
       "      <td>2.6</td>\n",
       "      <td>2</td>\n",
       "      <td>2</td>\n",
       "      <td>4</td>\n",
       "      <td>0</td>\n",
       "    </tr>\n",
       "    <tr>\n",
       "      <th>3</th>\n",
       "      <td>37</td>\n",
       "      <td>1</td>\n",
       "      <td>3</td>\n",
       "      <td>130</td>\n",
       "      <td>250</td>\n",
       "      <td>0</td>\n",
       "      <td>0</td>\n",
       "      <td>187</td>\n",
       "      <td>0</td>\n",
       "      <td>3.5</td>\n",
       "      <td>3</td>\n",
       "      <td>0</td>\n",
       "      <td>3</td>\n",
       "      <td>0</td>\n",
       "    </tr>\n",
       "    <tr>\n",
       "      <th>4</th>\n",
       "      <td>41</td>\n",
       "      <td>0</td>\n",
       "      <td>2</td>\n",
       "      <td>130</td>\n",
       "      <td>204</td>\n",
       "      <td>0</td>\n",
       "      <td>2</td>\n",
       "      <td>172</td>\n",
       "      <td>0</td>\n",
       "      <td>1.4</td>\n",
       "      <td>1</td>\n",
       "      <td>0</td>\n",
       "      <td>3</td>\n",
       "      <td>0</td>\n",
       "    </tr>\n",
       "  </tbody>\n",
       "</table>\n",
       "</div>"
      ],
      "text/plain": [
       "   age  sex  cp  trestbps  chol  fbs  ...  exang  oldpeak  slope  ca  thal  target\n",
       "0   63    1   1       145   233    1  ...      0      2.3      3   0     2       0\n",
       "1   67    1   4       160   286    0  ...      1      1.5      2   3     3       1\n",
       "2   67    1   4       120   229    0  ...      1      2.6      2   2     4       0\n",
       "3   37    1   3       130   250    0  ...      0      3.5      3   0     3       0\n",
       "4   41    0   2       130   204    0  ...      0      1.4      1   0     3       0\n",
       "\n",
       "[5 rows x 14 columns]"
      ]
     },
     "execution_count": 52,
     "metadata": {
      "tags": []
     },
     "output_type": "execute_result"
    }
   ],
   "source": [
    "df.head()"
   ]
  },
  {
   "cell_type": "code",
   "execution_count": 53,
   "metadata": {
    "colab": {},
    "colab_type": "code",
    "executionInfo": {
     "elapsed": 1236,
     "status": "ok",
     "timestamp": 1597343444689,
     "user": {
      "displayName": "Rajat Singhal",
      "photoUrl": "",
      "userId": "09575340703716566720"
     },
     "user_tz": -330
    },
    "id": "dx8XvdcwzG6U"
   },
   "outputs": [],
   "source": [
    "target = df.pop('target')\n",
    "# dataset = tf.data.Dataset.from_tensor_slices((df.values, target.values))"
   ]
  },
  {
   "cell_type": "code",
   "execution_count": 54,
   "metadata": {
    "colab": {},
    "colab_type": "code",
    "executionInfo": {
     "elapsed": 1918,
     "status": "ok",
     "timestamp": 1597343449510,
     "user": {
      "displayName": "Rajat Singhal",
      "photoUrl": "",
      "userId": "09575340703716566720"
     },
     "user_tz": -330
    },
    "id": "9Aa2JvV2zWJy"
   },
   "outputs": [],
   "source": [
    "# dataset\n",
    "inputs = tf.convert_to_tensor(df)\n",
    "outputs = tf.convert_to_tensor(target, dtype=tf.float64)"
   ]
  },
  {
   "cell_type": "code",
   "execution_count": 55,
   "metadata": {
    "colab": {
     "base_uri": "https://localhost:8080/",
     "height": 347
    },
    "colab_type": "code",
    "executionInfo": {
     "elapsed": 1156,
     "status": "ok",
     "timestamp": 1597343449517,
     "user": {
      "displayName": "Rajat Singhal",
      "photoUrl": "",
      "userId": "09575340703716566720"
     },
     "user_tz": -330
    },
    "id": "QfNuCCTdzYPo",
    "outputId": "d7285751-d427-4036-c7d2-bcbda353865c"
   },
   "outputs": [
    {
     "data": {
      "text/plain": [
       "<tf.Tensor: shape=(303,), dtype=float64, numpy=\n",
       "array([0., 1., 0., 0., 0., 0., 1., 0., 1., 0., 0., 0., 1., 0., 0., 0., 0.,\n",
       "       0., 0., 0., 0., 0., 0., 1., 1., 0., 0., 0., 0., 1., 0., 1., 0., 0.,\n",
       "       0., 0., 1., 0., 1., 0., 1., 0., 1., 0., 0., 0., 0., 0., 0., 0., 1.,\n",
       "       0., 0., 0., 1., 0., 0., 0., 0., 0., 0., 1., 0., 0., 0., 0., 1., 0.,\n",
       "       0., 0., 1., 0., 1., 0., 0., 1., 1., 0., 0., 0., 0., 0., 0., 0., 0.,\n",
       "       1., 1., 0., 0., 0., 0., 0., 0., 0., 0., 1., 0., 0., 0., 0., 0., 0.,\n",
       "       1., 1., 0., 0., 0., 1., 0., 0., 1., 0., 0., 0., 0., 0., 0., 0., 1.,\n",
       "       0., 0., 0., 1., 0., 0., 0., 0., 0., 1., 1., 0., 0., 0., 0., 0., 1.,\n",
       "       0., 1., 0., 1., 1., 0., 1., 0., 0., 0., 0., 0., 0., 0., 0., 0., 1.,\n",
       "       1., 1., 0., 0., 0., 1., 0., 1., 0., 0., 0., 0., 0., 0., 0., 0., 0.,\n",
       "       1., 0., 0., 0., 0., 1., 1., 0., 1., 0., 0., 0., 1., 1., 0., 0., 0.,\n",
       "       0., 0., 0., 1., 0., 1., 1., 0., 1., 0., 0., 0., 0., 0., 0., 0., 0.,\n",
       "       0., 0., 0., 0., 1., 0., 0., 1., 1., 1., 0., 0., 0., 0., 1., 0., 0.,\n",
       "       0., 0., 0., 0., 0., 1., 0., 1., 0., 1., 1., 1., 0., 0., 0., 0., 1.,\n",
       "       1., 0., 0., 1., 0., 0., 1., 1., 0., 0., 0., 0., 0., 0., 0., 0., 0.,\n",
       "       0., 0., 1., 0., 1., 0., 0., 0., 0., 1., 0., 0., 0., 0., 0., 0., 0.,\n",
       "       1., 0., 0., 0., 1., 1., 0., 0., 1., 0., 1., 1., 0., 0., 0., 0., 0.,\n",
       "       0., 1., 0., 1., 0., 1., 1., 0., 0., 0., 1., 1., 1., 1.])>"
      ]
     },
     "execution_count": 55,
     "metadata": {
      "tags": []
     },
     "output_type": "execute_result"
    }
   ],
   "source": [
    "outputs"
   ]
  },
  {
   "cell_type": "code",
   "execution_count": 56,
   "metadata": {
    "colab": {
     "base_uri": "https://localhost:8080/",
     "height": 538
    },
    "colab_type": "code",
    "executionInfo": {
     "elapsed": 1349,
     "status": "ok",
     "timestamp": 1597343453494,
     "user": {
      "displayName": "Rajat Singhal",
      "photoUrl": "",
      "userId": "09575340703716566720"
     },
     "user_tz": -330
    },
    "id": "pD0Ewt760YOl",
    "outputId": "287a1f9c-8b19-41ec-b66b-02da6debda80"
   },
   "outputs": [
    {
     "name": "stdout",
     "output_type": "stream",
     "text": [
      "Epoch 0: loss=29.352291428046822\n",
      "Epoch 1: loss=26.329214129233392\n",
      "Epoch 2: loss=14.003242739829977\n",
      "Epoch 3: loss=3.4161553733807053\n",
      "Epoch 4: loss=0.37254710826230936\n",
      "Epoch 5: loss=3.098039525864788\n",
      "Epoch 6: loss=5.285642870478202\n",
      "Epoch 7: loss=4.173358699878882\n",
      "Epoch 8: loss=1.4784286196002712\n",
      "Epoch 9: loss=0.19904245260898468\n",
      "Epoch 10: loss=1.2837299279434915\n",
      "Epoch 11: loss=2.857666899509249\n",
      "Epoch 12: loss=2.8551427935525124\n",
      "Epoch 13: loss=1.430567123648392\n",
      "Epoch 14: loss=0.281507128740285\n",
      "Epoch 15: loss=0.5043114849844458\n",
      "Epoch 16: loss=1.4898180110783679\n",
      "Epoch 17: loss=1.8734922879930258\n",
      "Epoch 18: loss=1.2348386421883981\n",
      "Epoch 19: loss=0.3913723718524712\n",
      "Epoch 20: loss=0.2519270231105239\n",
      "Epoch 21: loss=0.7794808387822273\n",
      "Epoch 22: loss=1.1790900029902684\n",
      "Epoch 23: loss=0.9491449074481442\n",
      "Epoch 24: loss=0.41472703343047523\n",
      "Epoch 25: loss=0.20204415043832\n",
      "Epoch 26: loss=0.4589315666653147\n",
      "Epoch 27: loss=0.756540333252259\n",
      "Epoch 28: loss=0.6947025554601322\n",
      "Epoch 29: loss=0.37706595867979065\n"
     ]
    }
   ],
   "source": [
    "epochs = 30\n",
    "dim = 13\n",
    "\n",
    "model = Model(input_dim=dim)\n",
    "for epoch in range(epochs):\n",
    "    current_loss = loss(outputs, model(inputs))\n",
    "\n",
    "    train(model, inputs, outputs)\n",
    "    print(f'Epoch {epoch}: loss={current_loss}')"
   ]
  },
  {
   "cell_type": "code",
   "execution_count": null,
   "metadata": {
    "colab": {},
    "colab_type": "code",
    "id": "eMkQcQdu0mRc"
   },
   "outputs": [],
   "source": []
  }
 ],
 "metadata": {
  "colab": {
   "authorship_tag": "ABX9TyPfq2sN3OetrYuLnirDQm8V",
   "collapsed_sections": [],
   "name": "test.ipynb",
   "provenance": []
  },
  "kernelspec": {
   "display_name": "Python 3",
   "language": "python",
   "name": "python3"
  },
  "language_info": {
   "codemirror_mode": {
    "name": "ipython",
    "version": 3
   },
   "file_extension": ".py",
   "mimetype": "text/x-python",
   "name": "python",
   "nbconvert_exporter": "python",
   "pygments_lexer": "ipython3",
   "version": "3.6.9"
  }
 },
 "nbformat": 4,
 "nbformat_minor": 1
}
